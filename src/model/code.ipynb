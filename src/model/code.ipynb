{
 "cells": [
  {
   "cell_type": "code",
   "execution_count": 1,
   "metadata": {},
   "outputs": [],
   "source": [
    "# importar librerias\n",
    "import numpy as np\n",
    "import pandas as pd\n",
    "import matplotlib.pyplot as plt"
   ]
  },
  {
   "cell_type": "markdown",
   "metadata": {},
   "source": [
    "# Procesamiento de Datos"
   ]
  },
  {
   "cell_type": "code",
   "execution_count": 2,
   "metadata": {},
   "outputs": [],
   "source": [
    "# obtener el conjunto de datos\n",
    "df = pd.read_csv('data.csv')"
   ]
  },
  {
   "cell_type": "code",
   "execution_count": null,
   "metadata": {},
   "outputs": [],
   "source": [
    "df.info()"
   ]
  },
  {
   "cell_type": "code",
   "execution_count": null,
   "metadata": {},
   "outputs": [],
   "source": [
    "df.head(5)"
   ]
  },
  {
   "cell_type": "code",
   "execution_count": null,
   "metadata": {},
   "outputs": [],
   "source": [
    "# Verify if there are any null values\n",
    "print(df.isna().sum())"
   ]
  },
  {
   "cell_type": "markdown",
   "metadata": {},
   "source": [
    "## Transformación de Datos\n"
   ]
  },
  {
   "cell_type": "code",
   "execution_count": null,
   "metadata": {},
   "outputs": [],
   "source": [
    "from sklearn.preprocessing import MinMaxScaler\n",
    "\n",
    "# Seleccionar las características relevantes para el SOM (Age, Cholesterol, Blood Pressure, ...)\n",
    "features = [\n",
    "    \"Age\",\n",
    "    \"Sex\",\n",
    "    \"Cholesterol\",\n",
    "    \"Blood Pressure\",\n",
    "    \"Heart Rate\",\n",
    "    \"Diabetes\",\n",
    "    \"Family History\",\n",
    "    \"Smoking\",\n",
    "    \"Obesity\",\n",
    "]\n",
    "\n",
    "# Filtrar las características y la etiqueta\n",
    "X = df[features]\n",
    "y = df[\"Heart Attack Risk\"]\n",
    "\n",
    "# Dividir la columna 'Blood Pressure' en dos columnas separadas\n",
    "X[[\"Systolic Pressure\", \"Diastolic Pressure\"]] = X[\"Blood Pressure\"].str.split(\n",
    "    \"/\", expand=True\n",
    ")\n",
    "\n",
    "# Convertir las columnas a valores numéricos}\n",
    "# df[\"Patient ID\"] = df[\"Patient ID\"].apply(lambda x: x[3:])\n",
    "\n",
    "X[\"Systolic Pressure\"] = pd.to_numeric(X[\"Systolic Pressure\"])\n",
    "X[\"Diastolic Pressure\"] = pd.to_numeric(X[\"Diastolic Pressure\"])\n",
    "X[\"Sex\"] = X[\"Sex\"].apply(lambda x: 1 if x == \"Male\" else 0)\n",
    "X.drop(columns=[\"Blood Pressure\"], inplace=True)\n",
    "scaler = MinMaxScaler()\n",
    "X = scaler.fit_transform(X)"
   ]
  },
  {
   "cell_type": "markdown",
   "metadata": {},
   "source": [
    "# Model SOM"
   ]
  },
  {
   "cell_type": "code",
   "execution_count": 7,
   "metadata": {},
   "outputs": [],
   "source": [
    "# Import the model of SOM\n",
    "from minisom import MiniSom"
   ]
  },
  {
   "cell_type": "code",
   "execution_count": 14,
   "metadata": {},
   "outputs": [],
   "source": [
    "# Initialize the SOM\n",
    "som = MiniSom( x = 10, y = 10, input_len = 10, sigma = 1.0, learning_rate = 0.5)"
   ]
  },
  {
   "cell_type": "code",
   "execution_count": 15,
   "metadata": {},
   "outputs": [],
   "source": [
    "# Initialize the weights\n",
    "som.random_weights_init(X)"
   ]
  },
  {
   "cell_type": "code",
   "execution_count": 16,
   "metadata": {},
   "outputs": [],
   "source": [
    "# Train your model\n",
    "som.train_random(data = X, num_iteration = 1000)"
   ]
  },
  {
   "cell_type": "code",
   "execution_count": null,
   "metadata": {},
   "outputs": [],
   "source": [
    "# Make the map of the SOM\n",
    "from pylab import bone, pcolor, colorbar, plot, show\n",
    "bone()\n",
    "pcolor(som.distance_map().T)\n",
    "colorbar()\n",
    "markers = ['o' , 's']\n",
    "colors = ['r', 'b']\n",
    "for i, x in enumerate(X):\n",
    "    w = som.winner(x)\n",
    "    plot(w[0] + 0.5,\n",
    "         w[1] + 0.5,\n",
    "         markers[y[i]],\n",
    "         markeredgecolor = colors[y[i]],\n",
    "         markerfacecolor = 'None',\n",
    "         markersize = 10,\n",
    "         markeredgewidth = 2)\n",
    "show()"
   ]
  }
 ],
 "metadata": {
  "kernelspec": {
   "display_name": ".env",
   "language": "python",
   "name": "python3"
  },
  "language_info": {
   "codemirror_mode": {
    "name": "ipython",
    "version": 3
   },
   "file_extension": ".py",
   "mimetype": "text/x-python",
   "name": "python",
   "nbconvert_exporter": "python",
   "pygments_lexer": "ipython3",
   "version": "3.11.6"
  }
 },
 "nbformat": 4,
 "nbformat_minor": 2
}
