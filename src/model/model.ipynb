{
  "cells": [
    {
      "cell_type": "markdown",
      "metadata": {},
      "source": [
        "**EXECUTE THIS NOTEBOOK IN COOLAB**"
      ]
    },
    {
      "cell_type": "code",
      "execution_count": null,
      "metadata": {
        "id": "W2u5uGjp5bVS"
      },
      "outputs": [],
      "source": [
        "# importar librerias\n",
        "import numpy as np\n",
        "import pandas as pd\n",
        "import matplotlib.pyplot as plt"
      ]
    },
    {
      "cell_type": "markdown",
      "metadata": {
        "id": "yF7ng3VV5bVU"
      },
      "source": [
        "# Procesamiento de Datos"
      ]
    },
    {
      "cell_type": "code",
      "execution_count": null,
      "metadata": {},
      "outputs": [],
      "source": [
        "#!curl https://raw.githubusercontent.com/LuisFelipePoma/PC2-IA/main/src/model/heart.csv -o heart.csv"
      ]
    },
    {
      "cell_type": "code",
      "execution_count": null,
      "metadata": {
        "id": "2qcq9cku5bVV"
      },
      "outputs": [],
      "source": [
        "# obtener el conjunto de datos\n",
        "df = pd.read_csv('heart.csv')"
      ]
    },
    {
      "cell_type": "code",
      "execution_count": null,
      "metadata": {
        "colab": {
          "base_uri": "https://localhost:8080/"
        },
        "id": "FCywdW3T5bVV",
        "outputId": "572e13eb-efd6-417b-da58-f5e0fbd7ebfc"
      },
      "outputs": [],
      "source": [
        "df.columns"
      ]
    },
    {
      "cell_type": "code",
      "execution_count": null,
      "metadata": {
        "colab": {
          "base_uri": "https://localhost:8080/"
        },
        "id": "ylWL_oWn5bVW",
        "outputId": "30b165b7-bdd5-4f3d-b73c-b3ef4b622748"
      },
      "outputs": [],
      "source": [
        "df.info()"
      ]
    },
    {
      "cell_type": "code",
      "execution_count": null,
      "metadata": {
        "colab": {
          "base_uri": "https://localhost:8080/",
          "height": 206
        },
        "id": "SyWKX5_y5bVW",
        "outputId": "1ddfaaee-fda0-4965-8d06-e56067cbe317"
      },
      "outputs": [],
      "source": [
        "df.head(5)"
      ]
    },
    {
      "cell_type": "code",
      "execution_count": null,
      "metadata": {
        "colab": {
          "base_uri": "https://localhost:8080/",
          "height": 442
        },
        "id": "Thn21hPt5bVW",
        "outputId": "b07a9900-cee2-40e0-c70c-9a9101b7d40b"
      },
      "outputs": [],
      "source": [
        "# see if the data is balance in a plot\n",
        "df[\"output\"].value_counts().plot(kind='bar')"
      ]
    },
    {
      "cell_type": "code",
      "execution_count": null,
      "metadata": {
        "colab": {
          "base_uri": "https://localhost:8080/"
        },
        "id": "utt0r-em5bVX",
        "outputId": "5f7af9f0-926f-4eef-c7ef-d5b131abe626"
      },
      "outputs": [],
      "source": [
        "# Verify if there are any null values\n",
        "print(df.isna().sum())"
      ]
    },
    {
      "cell_type": "code",
      "execution_count": null,
      "metadata": {
        "colab": {
          "base_uri": "https://localhost:8080/",
          "height": 300
        },
        "id": "IhfsW0bQ5bVX",
        "outputId": "7be5b3a8-07a8-471c-ba9e-f22427d054de"
      },
      "outputs": [],
      "source": [
        "df.describe()"
      ]
    },
    {
      "cell_type": "markdown",
      "metadata": {
        "id": "ZpdlXpas5bVX"
      },
      "source": [
        "## Transformación de Datos\n"
      ]
    },
    {
      "cell_type": "code",
      "execution_count": null,
      "metadata": {
        "id": "hycAQsxN5bVX"
      },
      "outputs": [],
      "source": [
        "# ---------------------> DROP DATA <---------------------\n",
        "\n",
        "df.drop(\n",
        "    columns=[\"chol\", \"fbs\", \"trtbps\", \"restecg\", \"slp\", \"oldpeak\", \"caa\"],\n",
        "    inplace=True,\n",
        ")\n",
        "\n",
        "# df = df.loc[df[\"thall\"] != 0]"
      ]
    },
    {
      "cell_type": "code",
      "execution_count": null,
      "metadata": {
        "colab": {
          "base_uri": "https://localhost:8080/"
        },
        "id": "vJzFm8gB5bVY",
        "outputId": "be28a3d2-d5ea-40e8-ed2c-2a8a2a075dc1"
      },
      "outputs": [],
      "source": [
        "df.columns"
      ]
    },
    {
      "cell_type": "code",
      "execution_count": null,
      "metadata": {
        "colab": {
          "base_uri": "https://localhost:8080/",
          "height": 300
        },
        "id": "ZFwOhXg85bVY",
        "outputId": "e6d93a27-0ef0-46b1-c9f6-1927a33af39b"
      },
      "outputs": [],
      "source": [
        "df.describe()"
      ]
    },
    {
      "cell_type": "code",
      "execution_count": null,
      "metadata": {
        "colab": {
          "base_uri": "https://localhost:8080/",
          "height": 836
        },
        "id": "0LpNUkuV5bVY",
        "outputId": "42729c7e-0847-4e99-baa3-62872c4fe09c"
      },
      "outputs": [],
      "source": [
        "# graph of the corr\n",
        "import seaborn as sns\n",
        "plt.figure(figsize=(10, 10))\n",
        "sns.heatmap(df.corr(), annot=True, cmap=\"coolwarm\")\n",
        "plt.show()"
      ]
    },
    {
      "cell_type": "markdown",
      "metadata": {
        "id": "NwgXtMxo5bVY"
      },
      "source": [
        "# Modelate"
      ]
    },
    {
      "cell_type": "code",
      "execution_count": null,
      "metadata": {
        "colab": {
          "base_uri": "https://localhost:8080/",
          "height": 206
        },
        "id": "rMojlKRd5bVY",
        "outputId": "c78040ce-4c2b-461b-face-b908e44123a5"
      },
      "outputs": [],
      "source": [
        "df.head()"
      ]
    },
    {
      "cell_type": "markdown",
      "metadata": {
        "id": "40KKzOIC5bVZ"
      },
      "source": [
        "## Split Data"
      ]
    },
    {
      "cell_type": "code",
      "execution_count": null,
      "metadata": {
        "id": "rBK1qy0x5bVZ"
      },
      "outputs": [],
      "source": [
        "# Split the dataset\n",
        "from sklearn.model_selection import train_test_split\n",
        "from sklearn.metrics import (\n",
        "    confusion_matrix,\n",
        "    accuracy_score,\n",
        "    ConfusionMatrixDisplay,\n",
        ")\n",
        "\n",
        "\n",
        "X_train, X_test, y_train, y_test = train_test_split(\n",
        "    df.drop(\"output\", axis=1),\n",
        "    df[\"output\"],\n",
        "    random_state=42,\n",
        "    test_size=0.2,\n",
        ")\n",
        "# Path to save the models\n",
        "PATH = \"../client/public/models/\""
      ]
    },
    {
      "cell_type": "code",
      "execution_count": null,
      "metadata": {
        "colab": {
          "base_uri": "https://localhost:8080/"
        },
        "id": "nAZ42pqO5bVZ",
        "outputId": "a3adf0fa-6855-47ad-8388-1b2803bd5fec"
      },
      "outputs": [],
      "source": [
        "# Eliminamos el Id del pasajero en el conjunto de datos de prueba\n",
        "X_train.shape, X_test.shape, y_train.shape, y_test.shape"
      ]
    },
    {
      "cell_type": "markdown",
      "metadata": {
        "id": "skiOxZ395bVZ"
      },
      "source": [
        "# Transfom Models"
      ]
    },
    {
      "cell_type": "code",
      "execution_count": null,
      "metadata": {
        "id": "Nyfm19cq5yqU"
      },
      "outputs": [],
      "source": [
        "%pip install skl2onnx\n",
        "%pip install tensorflowjs"
      ]
    },
    {
      "cell_type": "code",
      "execution_count": null,
      "metadata": {
        "id": "N8EF9aEl5bVZ"
      },
      "outputs": [],
      "source": [
        "from skl2onnx import convert_sklearn\n",
        "from skl2onnx.common.data_types import FloatTensorType\n",
        "# import tensorflowjs as tfjs\n",
        "\n",
        "def save_model(model, file):\n",
        "    initial_type = [(\"input\", FloatTensorType([None, X_train.shape[1]]))]\n",
        "    onx = convert_sklearn(model, initial_types=initial_type, options={type(model): {'zipmap': False}})\n",
        "    with open(PATH + file + \".onnx\", \"wb\") as f:\n",
        "        f.write(onx.SerializeToString())"
      ]
    },
    {
      "cell_type": "markdown",
      "metadata": {
        "id": "1Qlkr0ME5bVZ"
      },
      "source": [
        "## Model Perceptron\n"
      ]
    },
    {
      "cell_type": "code",
      "execution_count": null,
      "metadata": {
        "id": "DJfoKQob5bVa"
      },
      "outputs": [],
      "source": [
        "from tensorflow.keras import Sequential\n",
        "from tensorflow.keras.layers import Dense, Input"
      ]
    },
    {
      "cell_type": "code",
      "execution_count": null,
      "metadata": {
        "colab": {
          "base_uri": "https://localhost:8080/"
        },
        "id": "Au0LWSc95bVa",
        "outputId": "9674895c-f812-4b0c-9c62-b2eb770576c3"
      },
      "outputs": [],
      "source": [
        "perceptron = Sequential()\n",
        "\n",
        "perceptron.add(Input(shape=(X_train.shape[1],)))\n",
        "perceptron.add(Dense(units=1, activation=\"sigmoid\"))\n",
        "perceptron.compile(optimizer=\"adam\", loss=\"binary_crossentropy\", metrics=[\"accuracy\"])\n",
        "perceptron.summary()\n"
      ]
    },
    {
      "cell_type": "code",
      "execution_count": null,
      "metadata": {
        "id": "lE_s6qhP5bVa"
      },
      "outputs": [],
      "source": [
        "history = perceptron.fit(X_train, y_train, epochs=250, batch_size=8, verbose=1, validation_data=(X_test, y_test))\n",
        "# save model and architecture to single file\n",
        "#perceptron.save(PATH + \"perceptron.h5\")\n",
        "tfjs.converters.save_keras_model(perceptron, \"perceptron_model\")"
      ]
    },
    {
      "cell_type": "markdown",
      "metadata": {
        "id": "hJAKQU7M5bVa"
      },
      "source": [
        "## Model Naive Bayes"
      ]
    },
    {
      "cell_type": "code",
      "execution_count": null,
      "metadata": {
        "id": "phnP3lvU5bVa"
      },
      "outputs": [],
      "source": [
        "from sklearn.naive_bayes import GaussianNB"
      ]
    },
    {
      "cell_type": "code",
      "execution_count": null,
      "metadata": {
        "colab": {
          "base_uri": "https://localhost:8080/"
        },
        "id": "7uQznAWl5bVa",
        "outputId": "cd36ac8a-0fe6-4417-b168-7f1b73ac5e49"
      },
      "outputs": [],
      "source": [
        "gnb = GaussianNB()\n",
        "gnb.fit(X_train, y_train)\n",
        "save_model(gnb, \"model_gnb\")\n",
        "y_pred = gnb.predict(X_test)\n",
        "# print accuracy\n",
        "acc_gnb = accuracy_score(y_test, y_pred)\n",
        "print(acc_gnb)"
      ]
    },
    {
      "cell_type": "markdown",
      "metadata": {
        "id": "s5e-meRn5bVa"
      },
      "source": [
        "### CNN"
      ]
    },
    {
      "cell_type": "code",
      "execution_count": null,
      "metadata": {
        "id": "WlB1UFON5bVb"
      },
      "outputs": [],
      "source": [
        "# Import lib for convolutional neural network\n",
        "from keras.layers import Conv1D, MaxPooling1D, Flatten, Dropout"
      ]
    },
    {
      "cell_type": "code",
      "execution_count": null,
      "metadata": {
        "colab": {
          "base_uri": "https://localhost:8080/"
        },
        "id": "nVp_SX535bVb",
        "outputId": "883e89fe-03f3-47f5-fc31-9231e0779a92"
      },
      "outputs": [],
      "source": [
        "modelconv = Sequential()\n",
        "# modelconv.add(tf.keras.Input(shape=(10,)))\n",
        "modelconv.add(Conv1D(4, 3, activation=\"relu\", input_shape=(X_train.shape[1], 1)))\n",
        "modelconv.add(MaxPooling1D())\n",
        "modelconv.add(Flatten())\n",
        "modelconv.add(Dense(4, activation=\"relu\"))\n",
        "modelconv.add(Dropout(0.1))\n",
        "modelconv.add(Dense(1, activation=\"sigmoid\"))\n",
        "modelconv.compile(loss=\"binary_crossentropy\", optimizer=\"adam\", metrics=[\"accuracy\"])\n",
        "modelconv.summary()"
      ]
    },
    {
      "cell_type": "code",
      "execution_count": null,
      "metadata": {
        "colab": {
          "base_uri": "https://localhost:8080/"
        },
        "id": "zXoIbxIJ5bVb",
        "outputId": "a46b262d-b34c-499a-ffc9-067942c8f240"
      },
      "outputs": [],
      "source": [
        "# Train the model\n",
        "historyconv = modelconv.fit(\n",
        "    X_train, y_train, validation_data=(X_test, y_test), epochs=500, batch_size=8\n",
        ")\n",
        "# save model to .h5\n",
        "#modelconv.save( PATH + \"modelconv.h5\")\n",
        "tfjs.converters.save_keras_model(perceptron, \"cnn_model\")\n"
      ]
    },
    {
      "cell_type": "code",
      "execution_count": null,
      "metadata": {
        "id": "1aCoqI7R5bVb"
      },
      "outputs": [],
      "source": [
        "# graph of loss\n",
        "plt.plot(historyconv.history['loss'])\n",
        "plt.plot(historyconv.history['val_loss'])\n",
        "plt.title('Loss vs Epochs')\n",
        "plt.ylabel('Loss')\n",
        "plt.xlabel('Epoch')\n",
        "plt.legend(['Train', 'Validation'], loc='upper right')\n",
        "plt.show()"
      ]
    }
  ],
  "metadata": {
    "colab": {
      "provenance": []
    },
    "kernelspec": {
      "display_name": ".env",
      "language": "python",
      "name": "python3"
    },
    "language_info": {
      "codemirror_mode": {
        "name": "ipython",
        "version": 3
      },
      "file_extension": ".py",
      "mimetype": "text/x-python",
      "name": "python",
      "nbconvert_exporter": "python",
      "pygments_lexer": "ipython3",
      "version": "3.11.6"
    }
  },
  "nbformat": 4,
  "nbformat_minor": 0
}
